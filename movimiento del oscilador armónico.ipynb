{
  "nbformat": 4,
  "nbformat_minor": 0,
  "metadata": {
    "colab": {
      "name": "Untitled5.ipynb",
      "provenance": [],
      "collapsed_sections": [],
      "authorship_tag": "ABX9TyMfGIKUsvFKVizLzNXBPj/L",
      "include_colab_link": true
    },
    "kernelspec": {
      "name": "python3",
      "display_name": "Python 3"
    },
    "language_info": {
      "name": "python"
    }
  },
  "cells": [
    {
      "cell_type": "markdown",
      "metadata": {
        "id": "view-in-github",
        "colab_type": "text"
      },
      "source": [
        "<a href=\"https://colab.research.google.com/github/florgaleana/Notas-de-clase/blob/main/movimiento%20del%20oscilador%20arm%C3%B3nico.ipynb\" target=\"_parent\"><img src=\"https://colab.research.google.com/assets/colab-badge.svg\" alt=\"Open In Colab\"/></a>"
      ]
    },
    {
      "cell_type": "code",
      "metadata": {
        "colab": {
          "base_uri": "https://localhost:8080/"
        },
        "id": "WAC9zDVGAfoJ",
        "outputId": "f0310c55-f9ed-4b53-e9fe-867fcb26899b"
      },
      "source": [
        "\n",
        "import math\n",
        "A= float (input(\"inserte un valor para la amplitud \"))\n",
        "T= float (input (\"inserte un valor para el periodo \"))\n",
        "t= 3 #tiempo\n",
        "h= 0.5\n",
        "w= (2*math.pi)/T #frecuencia angular\n",
        "#f1= A*np.sin(w*t)\n",
        "fx = (A*(math.sin(w*(t+h))) - A*(math.sin(w*(t))))/h\n",
        "print(\"la velocidad del oscilador es\", fx, \"en el intervalo de\", h, \"segundos\")\n",
        "\n"
      ],
      "execution_count": 25,
      "outputs": [
        {
          "output_type": "stream",
          "name": "stdout",
          "text": [
            "inserte un valor para la amplitud 5\n",
            "inserte un valor para el periodo 2\n",
            "la velocidad del oscilador es -10.000000000000004 en el intervalo de 0.5 segundos\n"
          ]
        }
      ]
    }
  ]
}