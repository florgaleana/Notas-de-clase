{
  "nbformat": 4,
  "nbformat_minor": 0,
  "metadata": {
    "colab": {
      "name": "01_04_EjercicoDelAnguloPython.ipynb",
      "provenance": [],
      "include_colab_link": true
    },
    "kernelspec": {
      "name": "python3",
      "display_name": "Python 3"
    },
    "language_info": {
      "name": "python"
    }
  },
  "cells": [
    {
      "cell_type": "markdown",
      "metadata": {
        "id": "view-in-github",
        "colab_type": "text"
      },
      "source": [
        "<a href=\"https://colab.research.google.com/github/florgaleana/Prueba/blob/main/01_04_EjercicoDelAnguloPython.ipynb\" target=\"_parent\"><img src=\"https://colab.research.google.com/assets/colab-badge.svg\" alt=\"Open In Colab\"/></a>"
      ]
    },
    {
      "cell_type": "markdown",
      "metadata": {
        "id": "gz0NGooR2NlF"
      },
      "source": [
        "Diseñe el diagrama de flujo y tradúzcalo a lenguaje python para el siguiente problema: \n",
        "Sea a un angulo, dado en grados. Escriba el diagrama y las líneas en python que hallen: \n",
        "(a)  (b)  \n",
        "\n",
        "*   el numero de vueltas completas que da,\n",
        "*   el ángulo entre 0 y 359 al que\n",
        "*   el número del cuadrante en que se encuentra (numerados estos en sentido inverso al de las agujas del reloj), \n",
        "*   el ángulo en radianes al que equivale, \n",
        "*   su tangente."
      ]
    },
    {
      "cell_type": "code",
      "metadata": {
        "id": "Bgm_pNOKyumN",
        "outputId": "3cd59ba5-eab9-4865-86ea-98ffa5788c47",
        "colab": {
          "base_uri": "https://localhost:8080/"
        }
      },
      "source": [
        "#Diseñar un diagrama de flujo y traducirlo a lenguaje python para el siguiente problema.\n",
        "#Autor: Flor Marián Galeana Juárez\n",
        "#Fecha: 8 de agosto del 2021\n",
        "\n",
        "#Inicializar variables\n",
        "A=800 #A es un ángulo en grados\n",
        "B=90 #grados\n",
        "C=0 #grados\n",
        "D=180 #grados\n",
        "E=360 #grados\n",
        "\n",
        " #a)¿Cuántas vueltas completas da?\n",
        "G= A/E \n",
        "g= int(G)\n",
        "print (\"El número de vueltas que da es\", g)\n",
        "\n",
        "#b)¿A qué ángulo entre 0 y 359 grados corresponde?\n",
        "H= A-(g*E)\n",
        "print (\"A es equivalente a\", H, \"grados.\")\n",
        "\n",
        "#c)¿En qué cuadrante se encuentra el ángulo?\n",
        "i1= (C<H<B) #Primer cuadrante\n",
        "i2= (H==B) #Eje y positivo\n",
        "i3= (B<H<D) #Segundo cuadrante\n",
        "i4= (H==D) #Eje x negativo\n",
        "i5= (D<H<E) #Tercer cuadrante\n",
        "i6= (H==E) #Eje y negativo\n",
        "i7= (E<H<C) #Cuarto cuadrante\n",
        "i8= (H==C) #Eje x positivo\n",
        "if i1:\n",
        "  print(\"El ángulo de\", H,\"grados\",\"se encuentra en el primer cuadrante.\")\n",
        "if i2:\n",
        "  print(\"El ángulo de\", H,\"grados\", \"se encuentra en el eje y positivo.\")\n",
        "if i3:\n",
        "  print(\"El ángulo de\", H,\"grados\", \"se encuentra en el segundo cuadrante.\")\n",
        "if i4:\n",
        "  print(\"El ángulo de\", H, \"grados\", \"se encuentra en el eje x negativo.\")\n",
        "if i5:\n",
        "  print(\"El ángulo de\", H,\"grados\", \"se encuentra en el tercer cuadrante.\")\n",
        "if i6:\n",
        "  print(\"El ángulo de\", H,\"grados\", \"se encuentra en el eje y negativo.\")\n",
        "if i7:\n",
        "  print(\"El ángulo de\", H,\"grados\", \"se encuentra en el cuarto cuadrante.\")\n",
        "if i8:\n",
        "  print(\"El ángulo de\", H, \"grados\", \"se encuentra en el eje x positivo.\")\n",
        "\n",
        "import math \n",
        "#d) ¿A cuántos radianes equivale el ángulo?\n",
        "J= (H*(math .pi/180))\n",
        "print(\"El ángulo equivale a\", J, \"radianes.\")\n",
        "\n",
        "import math\n",
        "#e)¿Cuál es su tangente?\n",
        "K= math. tan(H)\n",
        "print(\"La tangente del ángulo es\", K )"
      ],
      "execution_count": 48,
      "outputs": [
        {
          "output_type": "stream",
          "text": [
            "El número de vueltas que da es 2\n",
            "A es equivalente a 80 grados.\n",
            "El ángulo de 80 grados se encuentra en el primer cuadrante.\n",
            "El ángulo equivale a 1.3962634015954636 radianes.\n",
            "La tangente del ángulo es 9.00365494560708\n"
          ],
          "name": "stdout"
        }
      ]
    }
  ]
}