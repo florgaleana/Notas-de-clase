{
  "nbformat": 4,
  "nbformat_minor": 0,
  "metadata": {
    "colab": {
      "name": "Integralesfinalesdeloscilador.ipynb",
      "provenance": [],
      "collapsed_sections": [],
      "authorship_tag": "ABX9TyN0XowvnsOVs0O1HBemx+7w",
      "include_colab_link": true
    },
    "kernelspec": {
      "name": "python3",
      "display_name": "Python 3"
    },
    "language_info": {
      "name": "python"
    }
  },
  "cells": [
    {
      "cell_type": "markdown",
      "metadata": {
        "id": "view-in-github",
        "colab_type": "text"
      },
      "source": [
        "<a href=\"https://colab.research.google.com/github/florgaleana/Notas-de-clase/blob/main/Integralesfinalesdeloscilador.ipynb\" target=\"_parent\"><img src=\"https://colab.research.google.com/assets/colab-badge.svg\" alt=\"Open In Colab\"/></a>"
      ]
    },
    {
      "cell_type": "code",
      "metadata": {
        "colab": {
          "base_uri": "https://localhost:8080/",
          "height": 398
        },
        "id": "pRj3qEKX_z5A",
        "outputId": "53fb3902-ed62-4ac6-eaa4-f69441e88f98"
      },
      "source": [
        "#Programa para calcular la Integral numérica de la oscilador armónico\n",
        "#Autor: Flor Marián Galeana Juárez\n",
        "#Fecha: 08 de septiembre del 2021\n",
        "#Encontrar la función original de la derivada\n",
        "import matplotlib.pyplot as plt\n",
        "import numpy as np\n",
        "import math\n",
        "#Definimos funciones\n",
        "def fprima(A, T, t):\n",
        "  return A*(2*np.pi/T)*np.cos((2*np.pi/T)*t)\n",
        "def f(A, T, t):\n",
        "  return A*np.sin((2*np.pi/T)*t)\n",
        "\n",
        "def rectangulo(b,h):\n",
        " return b*h\n",
        "\n",
        "def integral(A, T, pf, pi, n):\n",
        " intervalo= (pf-pi)/float(n)\n",
        " x1=pi\n",
        " suma=0;\n",
        " for i in range(1,n):\n",
        "   area= rectangulo(intervalo, fprima(A, T, x1+intervalo))\n",
        "   suma= suma + area\n",
        "   x1= x1+intervalo\n",
        " return suma\n",
        "\n",
        "#Lectura de variables\n",
        "A= float (input(\"¿Cuál es la amplitud del oscilador? \"))\n",
        "T= float (input (\"¿Cuál es el periodo del oscilador? \"))\n",
        "pi= float (input(\"¿A partir de qué tiempo quieres calcular la integral? \")) #Punto inicial del tiempo\n",
        "pf= float (input(\"¿Hasta qué punto quieres calcular la integral? \")) #Punto final del tiempo\n",
        "t1 = np.arange (pi, pf, 0.1)\n",
        "n= int (input(\"¿Cuántos segmentos deseas? \"))\n",
        "\n",
        "plt.plot(t1, fprima(A, T, t1))\n",
        "plt.plot(t1, f(A, T, t1))\n",
        "plt.show()\n",
        "\n",
        "#Calcular variables\n",
        "puntomedio= (pf+pi)/2\n",
        "#Evaluación de la integral numérica y exacta\n",
        "Integral_numérica= (fprima(A, T, puntomedio)*(pf-pi))\n",
        "Integral_exacta= (f(A, T, pf)-f(A, T, pi))\n",
        "Integral_muy_aproximada= integral(A, T, pf, pi, n)\n",
        "print(\"La integral muy aproximada de la función del oscilador es: \", Integral_muy_aproximada)\n",
        "print(\"La integral numérica aproximadamente de la función del oscilador es: \", Integral_numérica)\n",
        "print(\"La integral exacta de la función del oscilador es: \", Integral_exacta)"
      ],
      "execution_count": null,
      "outputs": [
        {
          "name": "stdout",
          "output_type": "stream",
          "text": [
            "¿Cuál es la amplitud del oscilador? 5\n",
            "¿Cuál es el periodo del oscilador? 2\n",
            "¿A partir de qué tiempo quieres calcular la integral? 0\n",
            "¿Hasta qué punto quieres calcular la integral? 1\n",
            "¿Cuántos segmentos deseas? 10\n"
          ]
        },
        {
          "output_type": "display_data",
          "data": {
            "image/png": "[encoded data removed]",
            "text/plain": [
              "<Figure size 432x288 with 1 Axes>"
            ]
          },
          "metadata": {
            "needs_background": "light"
          }
        },
        {
          "output_type": "stream",
          "name": "stdout",
          "text": [
            "La integral muy aproximada de la función del oscilador es:  6.661338147750939e-16\n",
            "La integral numérica aproximadamente de la función del oscilador es:  9.61835346860895e-16\n",
            "La integral exacta de la función del oscilador es:  6.123233995736766e-16\n"
          ]
        }
      ]
    },
    {
      "cell_type": "code",
      "metadata": {
        "id": "rLNM39OdiUY6"
      },
      "source": [
        ""
      ],
      "execution_count": null,
      "outputs": []
    },
    {
      "cell_type": "code",
      "metadata": {
        "colab": {
          "base_uri": "https://localhost:8080/"
        },
        "id": "IHybvkh1Iosg",
        "outputId": "e3d54561-85db-49f6-af95-74490eeae0c6"
      },
      "source": [
        "#Programa para calcular la Integral numérica de la oscilador armónico\n",
        "#Autor: Flor Marián Galeana Juárez\n",
        "#Fecha: 08 de septiembre del 2021\n",
        "#Encontrar la función original de la derivada\n",
        "import matplotlib.pyplot as plt\n",
        "import numpy as np\n",
        "import math\n",
        "#Definimos funciones\n",
        "def fprima(A, T, t):\n",
        "  return A*(2*np.pi/T)*np.cos((2*np.pi/T)*t)\n",
        "def f(A, T, t):\n",
        "  return A*np.sin((2*np.pi/T)*t)\n",
        "\n",
        "def rectangulo(b,h):\n",
        " return b*h\n",
        "\n",
        "def integral(A, T, pf, pi, n):\n",
        " intervalo= (pf-pi)/float(n)\n",
        " x1=pi\n",
        " suma=0;\n",
        " for i in range(1,n):\n",
        "   area= rectangulo(intervalo, fprima(A, T, x1+intervalo))\n",
        "   suma= suma + area\n",
        "   x1= x1+intervalo\n",
        " return suma\n",
        "\n",
        "#Lectura de variables\n",
        "A= float (input(\"¿Cuál es la amplitud del oscilador? \"))\n",
        "T= float (input (\"¿Cuál es el periodo del oscilador? \"))\n",
        "pi= float (input(\"¿A partir de qué tiempo quieres calcular la integral? \")) #Punto inicial del tiempo\n",
        "pf= float (input(\"¿Hasta qué punto quieres calcular la integral? \")) #Punto final del tiempo\n",
        "n= int (input(\"¿Cuántos segmentos deseas? \"))\n",
        "\n",
        "#Evaluación de la integral numérica y exacta\n",
        "Integral_muy_aproximada= integral(A, T, pf, pi, n)\n",
        "print(\"La integral muy aproximada de la función del oscilador es: \", Integral_muy_aproximada)\n"
      ],
      "execution_count": null,
      "outputs": [
        {
          "output_type": "stream",
          "name": "stdout",
          "text": [
            "¿Cuál es la amplitud del oscilador? 5\n",
            "¿Cuál es el periodo del oscilador? 2\n",
            "¿A partir de qué tiempo quieres calcular la integral? 0\n",
            "¿Hasta qué punto quieres calcular la integral? 1\n",
            "¿Cuántos segmentos deseas? 10\n",
            "La integral muy aproximada de la función del oscilador es:  6.661338147750939e-16\n"
          ]
        }
      ]
    },
    {
      "cell_type": "code",
      "metadata": {
        "colab": {
          "base_uri": "https://localhost:8080/"
        },
        "id": "PnyTS4WJiV-p",
        "outputId": "6f902adf-22d7-423a-d701-de5ea72f1209"
      },
      "source": [
        "#Programa para calcular la Integral numérica de la oscilador armónico\n",
        "#Autor: Flor Marián Galeana Juárez\n",
        "#Fecha: 17 de septiembre del 2021\n",
        "#Encontrar la función original de la derivada\n",
        "import matplotlib.pyplot as plt\n",
        "import numpy as np\n",
        "import math\n",
        "def fprima(t):\n",
        "  return 2*t\n",
        "\n",
        "def f(t):\n",
        "  return t**2\n",
        "\n",
        "def rectangulo(b,h):\n",
        " return b*h\n",
        "\n",
        "def integral(pf, pi, n):\n",
        " intervalo= (pf-pi)/float(n)\n",
        " t1=pi\n",
        " suma=0;\n",
        " for i in range(1,n):\n",
        "   area= rectangulo(intervalo, fprima(t1+intervalo))\n",
        "   suma= suma + area\n",
        "   t1= t1+intervalo\n",
        " return suma\n",
        "\n",
        "#Lectura de variables\n",
        "pi= float (input(\"¿A partir de qué tiempo quieres calcular la integral? \")) #Punto inicial del tiempo\n",
        "pf= float (input(\"¿Hasta qué punto quieres calcular la integral? \")) #Punto final del tiempo\n",
        "n= int (input(\"¿Cuántos segmentos deseas? \"))\n",
        "puntomedio= (pf+pi)/2\n",
        "#Evaluación de la integral numérica y exacta\n",
        "Integral_muy_aproximada= integral(pf, pi, n)\n",
        "print(\"La integral muy aproximada de la función con 10 segmentos es: \", Integral_muy_aproximada)\n",
        "Integral_numérica= (fprima(puntomedio)*(pf-pi))\n",
        "Integral_exacta= (f(pf)-f(pi))\n",
        "print(\"La integral numérica aproximadamente de la función es: \", Integral_numérica)\n",
        "print(\"La integral exacta de la función es: \", Integral_exacta)\n",
        "\n"
      ],
      "execution_count": 55,
      "outputs": [
        {
          "output_type": "stream",
          "name": "stdout",
          "text": [
            "¿A partir de qué tiempo quieres calcular la integral? 0\n",
            "¿Hasta qué punto quieres calcular la integral? 5\n",
            "¿Cuántos segmentos deseas? 10\n",
            "La integral muy aproximada de la función del oscilador es:  22.5\n",
            "La integral numérica aproximadamente de la función es:  25.0\n",
            "La integral exacta de la función es:  25.0\n"
          ]
        }
      ]
    },
    {
      "cell_type": "code",
      "metadata": {
        "colab": {
          "base_uri": "https://localhost:8080/"
        },
        "id": "dy-DHbw2m3ey",
        "outputId": "1b79cd79-9715-4be6-e1f8-99c0ad7a5091"
      },
      "source": [
        "#Método de cuadraturas el cuál calcula de forma aproxiamada la integral de funciones que pueden ser aproximadas a un polinomio dentro del rango [-1, 1]\n",
        "#La función puede ser escrita de la forma f(x)=w(x)*g(x), en donde g(x) es un polinomio aproximado y w(x) es conocido\n",
        "import numpy as np\n",
        "#Definimos funciones\n",
        "def f(x):\n",
        "  return 2*x**5+3*x**3+1\n",
        "\n",
        "def integral(n, liminf, limsup):\n",
        "  xi, weights= np.polynomial.legendre.leggauss(n)\n",
        "  Integral_numérica=0\n",
        "  for i in range(0,n):\n",
        "    Integral_numérica += weights[i]*f((limsup-liminf)/2*xi[i]+(limsup+liminf)/2)\n",
        "  return ((limsup-liminf)/2)*Integral_numérica\n",
        "\n",
        "#Lectura de variables\n",
        "pi= float (input(\"¿Desde qué punto quieres calcular la integral? \"))\n",
        "pf= float (input(\"¿Hasta qué punto quieres calcular la integral? \"))\n",
        "grado= int (input(\"¿Cuál es el grado de tu polinomio trabajado? \"))\n",
        "\n",
        "#Imprimimos y calculamos la integral\n",
        "print(\"El valor numérico de la integral es: \", integral(grado,pi,pf))"
      ],
      "execution_count": 61,
      "outputs": [
        {
          "output_type": "stream",
          "name": "stdout",
          "text": [
            "¿Desde qué punto quieres calcular la integral? 0\n",
            "¿Hasta qué punto quieres calcular la integral? 1\n",
            "¿Cuál es el grado de tu polinomio trabajado?5\n",
            "El valor numérico de la integral es:  2.0833333333333335\n"
          ]
        }
      ]
    }
  ]
}