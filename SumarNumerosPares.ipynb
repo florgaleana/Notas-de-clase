{
  "nbformat": 4,
  "nbformat_minor": 0,
  "metadata": {
    "colab": {
      "name": "SumarNumerosPares.ipynb",
      "provenance": [],
      "include_colab_link": true
    },
    "kernelspec": {
      "name": "python3",
      "display_name": "Python 3"
    },
    "language_info": {
      "name": "python"
    }
  },
  "cells": [
    {
      "cell_type": "markdown",
      "metadata": {
        "id": "view-in-github",
        "colab_type": "text"
      },
      "source": [
        "<a href=\"https://colab.research.google.com/github/florgaleana/Prueba/blob/main/SumarNumerosPares.ipynb\" target=\"_parent\"><img src=\"https://colab.research.google.com/assets/colab-badge.svg\" alt=\"Open In Colab\"/></a>"
      ]
    },
    {
      "cell_type": "code",
      "metadata": {
        "id": "zSYzFL8If-VI",
        "outputId": "18244b64-f71d-48a7-ac13-55eb2a537f66",
        "colab": {
          "base_uri": "https://localhost:8080/"
        }
      },
      "source": [
        "#Programa que suma los numeros pares del 1 al 20\n",
        "#autor = Flor Galeana\n",
        "#fecha = Agosto 9, 2021\n",
        "\n",
        "#inicializar variables \n",
        "sum=0\n",
        "count=1\n",
        "\n",
        "#Suma los numeros pares hasta que el contador llega a 20\n",
        "while count < 20:\n",
        "  count=count+1\n",
        "  if count%2==0:\n",
        "    sum = sum+count\n",
        "\n",
        "#imprimimos la salida\n",
        "print(sum)"
      ],
      "execution_count": 2,
      "outputs": [
        {
          "output_type": "stream",
          "text": [
            "110\n"
          ],
          "name": "stdout"
        }
      ]
    }
  ]
}