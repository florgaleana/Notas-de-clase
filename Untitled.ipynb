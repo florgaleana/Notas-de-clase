{
  "nbformat": 4,
  "nbformat_minor": 0,
  "metadata": {
    "colab": {
      "name": "Untitled",
      "provenance": [],
      "authorship_tag": "ABX9TyOteRO+GxNm7wiGDbr9B+xX",
      "include_colab_link": true
    },
    "kernelspec": {
      "name": "python3",
      "display_name": "Python 3"
    },
    "language_info": {
      "name": "python"
    }
  },
  "cells": [
    {
      "cell_type": "markdown",
      "metadata": {
        "id": "view-in-github",
        "colab_type": "text"
      },
      "source": [
        "<a href=\"https://colab.research.google.com/github/florgaleana/Notas-de-clase/blob/main/Untitled.ipynb\" target=\"_parent\"><img src=\"https://colab.research.google.com/assets/colab-badge.svg\" alt=\"Open In Colab\"/></a>"
      ]
    },
    {
      "cell_type": "code",
      "metadata": {
        "colab": {
          "base_uri": "https://localhost:8080/",
          "height": 317
        },
        "id": "db1-1fJczTTK",
        "outputId": "170c24de-de94-4dfc-e4cd-2cbddcdcd32e"
      },
      "source": [
        "import matplotlib.pyplot as plt\n",
        "import numpy as np\n",
        "#Bibliotecas:\n",
        "#https://numpy.org/doc/stable/reference/generated/numpy.arange.html\n",
        "#https://matplotlib.org/stable/api/_as_gen/matplotlib.pyplot.html\n",
        "t= (1/T) #tiempo\n",
        "def f1(A,w,t):\n",
        " return A*np.sin(w*t)\n",
        "\n",
        " \n",
        "t1= np.arange(0, 10, 1)\n",
        "\n",
        "A= float (input(\"inserte un valor para la amplitud \"))\n",
        "T= float (input (\"inserte un valor para el periodo \"))\n",
        "m= float (input(\"inserte un valor para la masa \"))\n",
        "k= ((2*np.pi)**2)*(m/T**2) #constante\n",
        "w= np.sqrt(k/m) #omega\n",
        "\n",
        "\n",
        "plt.plot(t1, f1(A,w,t1))\n",
        "plt.grid(color= \"r\", linestyle=\"-\", linewidth=2)\n",
        "plt.show()"
      ],
      "execution_count": 4,
      "outputs": [
        {
          "name": "stdout",
          "output_type": "stream",
          "text": [
            "inserte un valor para la amplitud 12\n",
            "inserte un valor para el periodo 16\n",
            "inserte un valor para la masa 22\n"
          ]
        },
        {
          "output_type": "display_data",
          "data": {
            "image/png": "[encoded data removed]",
            "text/plain": [
              "<Figure size 432x288 with 1 Axes>"
            ]
          },
          "metadata": {
            "needs_background": "light"
          }
        }
      ]
    }
  ]
}