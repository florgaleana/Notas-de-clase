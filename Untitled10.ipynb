{
  "nbformat": 4,
  "nbformat_minor": 0,
  "metadata": {
    "colab": {
      "name": "Untitled10.ipynb",
      "provenance": [],
      "collapsed_sections": [],
      "authorship_tag": "ABX9TyN9yC4l4vpEHkDgN4d/6oJK",
      "include_colab_link": true
    },
    "kernelspec": {
      "name": "python3",
      "display_name": "Python 3"
    },
    "language_info": {
      "name": "python"
    }
  },
  "cells": [
    {
      "cell_type": "markdown",
      "metadata": {
        "id": "view-in-github",
        "colab_type": "text"
      },
      "source": [
        "<a href=\"https://colab.research.google.com/github/florgaleana/Notas-de-clase/blob/main/Untitled10.ipynb\" target=\"_parent\"><img src=\"https://colab.research.google.com/assets/colab-badge.svg\" alt=\"Open In Colab\"/></a>"
      ]
    },
    {
      "cell_type": "code",
      "metadata": {
        "colab": {
          "base_uri": "https://localhost:8080/",
          "height": 292
        },
        "id": "NFNBI-D9XyBc",
        "outputId": "ef0ba7de-54f0-4cfa-c7ea-920dbbb53142"
      },
      "source": [
        "#Realice un programa que grafique la función e^(2t)-3/2 para un tiempo t en [6,15].\n",
        "#Autor: Flor Marián Galeana Juárez\n",
        "#Fecha: 07 de septiembre del 2021\n",
        "\n",
        "import matplotlib.pyplot as plt\n",
        "import numpy as np\n",
        "import math\n",
        "def f(e,t):\n",
        "  return (e**(2*t))-(3/2)\n",
        "t1= np.arange (6, 15, 0.1)\n",
        "e= 2.718\n",
        "for t in range (6,15):\n",
        "  print(\"el resultado es\", f)\n",
        "  break\n",
        "plt.plot(t1, f(e,t1))\n",
        "plt.show()"
      ],
      "execution_count": null,
      "outputs": [
        {
          "output_type": "stream",
          "name": "stdout",
          "text": [
            "el resultado es <function f at 0x7f04298833b0>\n"
          ]
        },
        {
          "output_type": "display_data",
          "data": {
            "image/png": "[encoded data removed]",
            "text/plain": [
              "<Figure size 432x288 with 1 Axes>"
            ]
          },
          "metadata": {
            "needs_background": "light"
          }
        }
      ]
    },
    {
      "cell_type": "code",
      "metadata": {
        "colab": {
          "base_uri": "https://localhost:8080/"
        },
        "id": "B3M64Nm3fIJ9",
        "outputId": "a5fcc902-78ba-4e68-ecbe-52a8632b82c7"
      },
      "source": [
        "#Realice un programa que encuentre la derivada numérica de la función e^(2t)-3/2 para un tiempo arbitrario (lea el valor) y haga la corrida del programa usando en un tiempo t=14 s.\n",
        "import sympy\n",
        "from scipy.misc import derivative\n",
        "e= 2.718\n",
        "t= input(\"escriba un tiempo arbitrario \")\n",
        "print(\"la derivada exacta de la función es\", derivative(ft,14,dx=1e-13))\n",
        "ft= lambda t: e**(2*t)-(3/2)\n",
        "\n"
      ],
      "execution_count": 17,
      "outputs": [
        {
          "output_type": "stream",
          "name": "stdout",
          "text": [
            "escriba un tiempo arbitrario 14\n",
            "la derivada numérica de la función es 2868652343750.0\n"
          ]
        }
      ]
    },
    {
      "cell_type": "code",
      "metadata": {
        "colab": {
          "base_uri": "https://localhost:8080/"
        },
        "id": "jrwqDQkJ16EN",
        "outputId": "3e729c20-149f-4940-f95d-54e3fc9d3bbe"
      },
      "source": [
        "import matplotlib.pyplot as plt\n",
        "import numpy as np\n",
        "def f1(h1,t1):\n",
        "  return ((np.exp(2*(t1+h1))-(3/2))-(np.exp(2*t1)-(3/2)))/h1\n",
        "t= float (input(\"escriba un tiempo arbitrario \"))\n",
        "h= 0.01\n",
        "derivada= f1(0.01,t)\n",
        "print(\"La derivada numérica de la función es\", derivada)"
      ],
      "execution_count": 20,
      "outputs": [
        {
          "output_type": "stream",
          "name": "stdout",
          "text": [
            "escriba un tiempo arbitrario 14\n",
            "La derivada exacta de la función es 2921633072184.912\n"
          ]
        }
      ]
    },
    {
      "cell_type": "code",
      "metadata": {
        "colab": {
          "base_uri": "https://localhost:8080/",
          "height": 276
        },
        "id": "pz0j8zsR3ump",
        "outputId": "f08f8faf-a03f-438b-e8d5-a1830755dbe3"
      },
      "source": [
        "#Grafique la función, la derivada numérica y la derivada exacta de:(e**(2*t))-(3/2) Para un tiempo t en [6,15].\n",
        "import matplotlib.pyplot as plt\n",
        "import numpy as np\n",
        "import sympy\n",
        "from scipy.misc import derivative\n",
        "def f1(h1,t1): #derivada numérica\n",
        "  return ((np.exp(2*(t1+h1))-(3/2))-(np.exp(2*t1)-(3/2)))/h1\n",
        "def f2(t1): #derivada exacta\n",
        "  return (np.exp(2*t1)-(3/2))\n",
        "t= np.arange(6, 15, 0.1)\n",
        "h= 0.01\n",
        "derivada= f1(0.01,t)\n",
        "derivative= f2(t)\n",
        "plt.plot(t, derivada)\n",
        "plt.plot(t, derivative)\n",
        "plt.show()"
      ],
      "execution_count": 23,
      "outputs": [
        {
          "output_type": "display_data",
          "data": {
            "image/png": "[encoded data removed]",
            "text/plain": [
              "<Figure size 432x288 with 1 Axes>"
            ]
          },
          "metadata": {
            "needs_background": "light"
          }
        }
      ]
    }
  ]
}